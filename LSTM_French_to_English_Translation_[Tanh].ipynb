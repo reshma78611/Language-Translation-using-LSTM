{
  "cells": [
    {
      "cell_type": "markdown",
      "id": "c6b2829a",
      "metadata": {
        "id": "c6b2829a"
      },
      "source": [
        "## 1.Import Necessary Libraries"
      ]
    },
    {
      "cell_type": "code",
      "execution_count": null,
      "id": "28d7d65c",
      "metadata": {
        "ExecuteTime": {
          "end_time": "2022-01-25T10:53:08.591205Z",
          "start_time": "2022-01-25T10:53:06.356107Z"
        },
        "id": "28d7d65c"
      },
      "outputs": [],
      "source": [
        "import pandas as pd\n",
        "import numpy as np\n",
        "import matplotlib.pyplot as plt\n",
        "import seaborn as sns\n",
        "import warnings\n",
        "warnings.filterwarnings('ignore')"
      ]
    },
    {
      "cell_type": "code",
      "execution_count": null,
      "id": "c3b310bc",
      "metadata": {
        "ExecuteTime": {
          "end_time": "2022-01-25T10:53:09.786983Z",
          "start_time": "2022-01-25T10:53:09.769470Z"
        },
        "id": "c3b310bc"
      },
      "outputs": [],
      "source": [
        "import string\n",
        "import re      #RegEx in Python supports various things like Modifiers, Identifiers, and White space characters."
      ]
    },
    {
      "cell_type": "markdown",
      "id": "305f4ad3",
      "metadata": {
        "id": "305f4ad3"
      },
      "source": [
        "## 2.Import Datasets"
      ]
    },
    {
      "cell_type": "code",
      "execution_count": null,
      "id": "50a4cfbd",
      "metadata": {
        "ExecuteTime": {
          "end_time": "2022-01-25T10:53:11.516885Z",
          "start_time": "2022-01-25T10:53:10.847222Z"
        },
        "id": "50a4cfbd",
        "outputId": "33fd8948-b495-4aea-ee89-68b6f83327a2"
      },
      "outputs": [
        {
          "data": {
            "text/html": [
              "<div>\n",
              "<style scoped>\n",
              "    .dataframe tbody tr th:only-of-type {\n",
              "        vertical-align: middle;\n",
              "    }\n",
              "\n",
              "    .dataframe tbody tr th {\n",
              "        vertical-align: top;\n",
              "    }\n",
              "\n",
              "    .dataframe thead th {\n",
              "        text-align: right;\n",
              "    }\n",
              "</style>\n",
              "<table border=\"1\" class=\"dataframe\">\n",
              "  <thead>\n",
              "    <tr style=\"text-align: right;\">\n",
              "      <th></th>\n",
              "      <th>English words/sentences</th>\n",
              "      <th>French words/sentences</th>\n",
              "    </tr>\n",
              "  </thead>\n",
              "  <tbody>\n",
              "    <tr>\n",
              "      <th>0</th>\n",
              "      <td>Hi.</td>\n",
              "      <td>Salut!</td>\n",
              "    </tr>\n",
              "    <tr>\n",
              "      <th>1</th>\n",
              "      <td>Run!</td>\n",
              "      <td>Cours !</td>\n",
              "    </tr>\n",
              "    <tr>\n",
              "      <th>2</th>\n",
              "      <td>Run!</td>\n",
              "      <td>Courez !</td>\n",
              "    </tr>\n",
              "    <tr>\n",
              "      <th>3</th>\n",
              "      <td>Who?</td>\n",
              "      <td>Qui ?</td>\n",
              "    </tr>\n",
              "    <tr>\n",
              "      <th>4</th>\n",
              "      <td>Wow!</td>\n",
              "      <td>Ça alors !</td>\n",
              "    </tr>\n",
              "  </tbody>\n",
              "</table>\n",
              "</div>"
            ],
            "text/plain": [
              "  English words/sentences French words/sentences\n",
              "0                     Hi.                 Salut!\n",
              "1                    Run!                Cours !\n",
              "2                    Run!               Courez !\n",
              "3                    Who?                  Qui ?\n",
              "4                    Wow!             Ça alors !"
            ]
          },
          "execution_count": 3,
          "metadata": {},
          "output_type": "execute_result"
        }
      ],
      "source": [
        "eng_fre_data=pd.read_csv(\"eng_-french.csv\")\n",
        "eng_fre_data.head()"
      ]
    },
    {
      "cell_type": "markdown",
      "id": "d7bed8fa",
      "metadata": {
        "id": "d7bed8fa"
      },
      "source": [
        "## 3.Data Understanding"
      ]
    },
    {
      "cell_type": "code",
      "execution_count": null,
      "id": "03c12fa1",
      "metadata": {
        "ExecuteTime": {
          "end_time": "2022-01-25T10:53:11.565409Z",
          "start_time": "2022-01-25T10:53:11.551897Z"
        },
        "id": "03c12fa1",
        "outputId": "65fde897-7f7a-4444-f7a1-ccd617c90792"
      },
      "outputs": [
        {
          "data": {
            "text/plain": [
              "(175621, 2)"
            ]
          },
          "execution_count": 4,
          "metadata": {},
          "output_type": "execute_result"
        }
      ],
      "source": [
        "eng_fre_data.shape"
      ]
    },
    {
      "cell_type": "code",
      "execution_count": null,
      "id": "e78938f4",
      "metadata": {
        "ExecuteTime": {
          "end_time": "2022-01-25T10:53:11.657948Z",
          "start_time": "2022-01-25T10:53:11.596935Z"
        },
        "id": "e78938f4",
        "outputId": "1f70ef3d-27cd-4845-8663-974abf20971c"
      },
      "outputs": [
        {
          "data": {
            "text/plain": [
              "English words/sentences    0\n",
              "French words/sentences     0\n",
              "dtype: int64"
            ]
          },
          "execution_count": 5,
          "metadata": {},
          "output_type": "execute_result"
        }
      ],
      "source": [
        "eng_fre_data.isna().sum()"
      ]
    },
    {
      "cell_type": "code",
      "execution_count": null,
      "id": "9a8fa3dc",
      "metadata": {
        "ExecuteTime": {
          "end_time": "2022-01-25T10:53:12.324567Z",
          "start_time": "2022-01-25T10:53:11.748972Z"
        },
        "id": "9a8fa3dc",
        "outputId": "a5e46731-20bd-41a7-ea5c-aeba4fc58cb2"
      },
      "outputs": [
        {
          "data": {
            "text/html": [
              "<div>\n",
              "<style scoped>\n",
              "    .dataframe tbody tr th:only-of-type {\n",
              "        vertical-align: middle;\n",
              "    }\n",
              "\n",
              "    .dataframe tbody tr th {\n",
              "        vertical-align: top;\n",
              "    }\n",
              "\n",
              "    .dataframe thead th {\n",
              "        text-align: right;\n",
              "    }\n",
              "</style>\n",
              "<table border=\"1\" class=\"dataframe\">\n",
              "  <thead>\n",
              "    <tr style=\"text-align: right;\">\n",
              "      <th></th>\n",
              "      <th>English words/sentences</th>\n",
              "      <th>French words/sentences</th>\n",
              "    </tr>\n",
              "  </thead>\n",
              "  <tbody>\n",
              "    <tr>\n",
              "      <th>count</th>\n",
              "      <td>175621</td>\n",
              "      <td>175621</td>\n",
              "    </tr>\n",
              "    <tr>\n",
              "      <th>unique</th>\n",
              "      <td>123100</td>\n",
              "      <td>165975</td>\n",
              "    </tr>\n",
              "    <tr>\n",
              "      <th>top</th>\n",
              "      <td>I can't tell you how happy I am that you've co...</td>\n",
              "      <td>C'est bizarre.</td>\n",
              "    </tr>\n",
              "    <tr>\n",
              "      <th>freq</th>\n",
              "      <td>32</td>\n",
              "      <td>9</td>\n",
              "    </tr>\n",
              "  </tbody>\n",
              "</table>\n",
              "</div>"
            ],
            "text/plain": [
              "                                  English words/sentences  \\\n",
              "count                                              175621   \n",
              "unique                                             123100   \n",
              "top     I can't tell you how happy I am that you've co...   \n",
              "freq                                                   32   \n",
              "\n",
              "       French words/sentences  \n",
              "count                  175621  \n",
              "unique                 165975  \n",
              "top            C'est bizarre.  \n",
              "freq                        9  "
            ]
          },
          "execution_count": 6,
          "metadata": {},
          "output_type": "execute_result"
        }
      ],
      "source": [
        "eng_fre_data.describe()"
      ]
    },
    {
      "cell_type": "code",
      "execution_count": null,
      "id": "da9e8fed",
      "metadata": {
        "ExecuteTime": {
          "end_time": "2022-01-25T10:53:12.419588Z",
          "start_time": "2022-01-25T10:53:12.373578Z"
        },
        "id": "da9e8fed",
        "outputId": "d77d812f-02c7-49d1-c9b2-7d2f2bbbb4bf"
      },
      "outputs": [
        {
          "name": "stdout",
          "output_type": "stream",
          "text": [
            "<class 'pandas.core.frame.DataFrame'>\n",
            "RangeIndex: 175621 entries, 0 to 175620\n",
            "Data columns (total 2 columns):\n",
            " #   Column                   Non-Null Count   Dtype \n",
            "---  ------                   --------------   ----- \n",
            " 0   English words/sentences  175621 non-null  object\n",
            " 1   French words/sentences   175621 non-null  object\n",
            "dtypes: object(2)\n",
            "memory usage: 2.7+ MB\n"
          ]
        }
      ],
      "source": [
        "eng_fre_data.info()"
      ]
    },
    {
      "cell_type": "markdown",
      "id": "f01c290d",
      "metadata": {
        "id": "f01c290d"
      },
      "source": [
        "## 4. Data Preprocessing"
      ]
    },
    {
      "cell_type": "code",
      "execution_count": null,
      "id": "e2b40a35",
      "metadata": {
        "ExecuteTime": {
          "end_time": "2022-01-25T10:53:19.121681Z",
          "start_time": "2022-01-25T10:53:13.633863Z"
        },
        "id": "e2b40a35"
      },
      "outputs": [],
      "source": [
        "from unicodedata import normalize  #It provides access to Unicode Character Database(UCD) \n",
        "from keras.preprocessing.text import Tokenizer\n",
        "from keras.preprocessing.sequence import pad_sequences #It is used to ensure that all sequences in a list have the same length."
      ]
    },
    {
      "cell_type": "code",
      "execution_count": null,
      "id": "c8aa26b2",
      "metadata": {
        "ExecuteTime": {
          "end_time": "2022-01-25T10:53:19.964268Z",
          "start_time": "2022-01-25T10:53:19.737829Z"
        },
        "id": "c8aa26b2"
      },
      "outputs": [],
      "source": [
        "from keras.models import Sequential,load_model\n",
        "from keras.layers import LSTM,Dense,Embedding,RepeatVector,TimeDistributed\n",
        "from keras.callbacks import EarlyStopping\n",
        "from string import punctuation\n",
        "from tensorflow.keras.utils import to_categorical # "
      ]
    },
    {
      "cell_type": "code",
      "execution_count": null,
      "id": "9c7a2516",
      "metadata": {
        "ExecuteTime": {
          "end_time": "2022-01-25T10:53:20.108387Z",
          "start_time": "2022-01-25T10:53:20.080295Z"
        },
        "id": "9c7a2516",
        "outputId": "e5924dc3-c75a-48bf-ac83-f584f5461e25"
      },
      "outputs": [
        {
          "name": "stdout",
          "output_type": "stream",
          "text": [
            "10000 \"parallel sentences\" will be loaded (original sentence + its translation)\n",
            "9000 \"parallel sentences\" will be used to train the model\n",
            "1000 \"parallel sentences\" will be used to test the model\n"
          ]
        }
      ],
      "source": [
        "# Limit the sentences to 10.00 to avoid exceding the available RAM space\n",
        "# Build a generator to avoid this issue\n",
        "\n",
        "total_sentences = 10000\n",
        "\n",
        "# Load the dataset\n",
        "eng_fre_data= pd.read_csv(\"eng_-french.csv\", nrows = total_sentences)\n",
        "\n",
        "# What proportion of the sentences will be used for the test set\n",
        "test_proportion = 0.1\n",
        "train_test_threshold = int( (1-test_proportion) * total_sentences)\n",
        "\n",
        "print(f'{total_sentences} \"parallel sentences\" will be loaded (original sentence + its translation)')\n",
        "print(f'{train_test_threshold} \"parallel sentences\" will be used to train the model')\n",
        "print(f'{total_sentences-train_test_threshold} \"parallel sentences\" will be used to test the model')"
      ]
    },
    {
      "cell_type": "markdown",
      "id": "40bbfa9c",
      "metadata": {
        "id": "40bbfa9c"
      },
      "source": [
        "### 4.1 Shuffle the dataset"
      ]
    },
    {
      "cell_type": "code",
      "execution_count": null,
      "id": "add46de4",
      "metadata": {
        "ExecuteTime": {
          "end_time": "2022-01-25T10:53:21.065140Z",
          "start_time": "2022-01-25T10:53:21.042599Z"
        },
        "id": "add46de4",
        "outputId": "e6cb97a3-f0a9-4fb1-c363-c2d75f4c5428"
      },
      "outputs": [
        {
          "data": {
            "text/html": [
              "<div>\n",
              "<style scoped>\n",
              "    .dataframe tbody tr th:only-of-type {\n",
              "        vertical-align: middle;\n",
              "    }\n",
              "\n",
              "    .dataframe tbody tr th {\n",
              "        vertical-align: top;\n",
              "    }\n",
              "\n",
              "    .dataframe thead th {\n",
              "        text-align: right;\n",
              "    }\n",
              "</style>\n",
              "<table border=\"1\" class=\"dataframe\">\n",
              "  <thead>\n",
              "    <tr style=\"text-align: right;\">\n",
              "      <th></th>\n",
              "      <th>English words/sentences</th>\n",
              "      <th>French words/sentences</th>\n",
              "    </tr>\n",
              "  </thead>\n",
              "  <tbody>\n",
              "    <tr>\n",
              "      <th>1554</th>\n",
              "      <td>Let me die.</td>\n",
              "      <td>Laisse-moi mourir.</td>\n",
              "    </tr>\n",
              "    <tr>\n",
              "      <th>2087</th>\n",
              "      <td>He's a slob.</td>\n",
              "      <td>C'est un flemmard.</td>\n",
              "    </tr>\n",
              "    <tr>\n",
              "      <th>5470</th>\n",
              "      <td>I have to try.</td>\n",
              "      <td>Il faut que j'essaie.</td>\n",
              "    </tr>\n",
              "    <tr>\n",
              "      <th>2363</th>\n",
              "      <td>I was naive.</td>\n",
              "      <td>Je fus crédule.</td>\n",
              "    </tr>\n",
              "    <tr>\n",
              "      <th>7570</th>\n",
              "      <td>He is bankrupt.</td>\n",
              "      <td>Il est en faillite.</td>\n",
              "    </tr>\n",
              "    <tr>\n",
              "      <th>6427</th>\n",
              "      <td>That's a fact.</td>\n",
              "      <td>C'est un fait.</td>\n",
              "    </tr>\n",
              "    <tr>\n",
              "      <th>1651</th>\n",
              "      <td>Talk to me!</td>\n",
              "      <td>Parlez-moi !</td>\n",
              "    </tr>\n",
              "    <tr>\n",
              "      <th>4164</th>\n",
              "      <td>Keep talking.</td>\n",
              "      <td>Continuez de parler.</td>\n",
              "    </tr>\n",
              "    <tr>\n",
              "      <th>1231</th>\n",
              "      <td>I broke it.</td>\n",
              "      <td>Je l'ai cassée.</td>\n",
              "    </tr>\n",
              "    <tr>\n",
              "      <th>9232</th>\n",
              "      <td>Tom is a judge.</td>\n",
              "      <td>Tom est juge.</td>\n",
              "    </tr>\n",
              "  </tbody>\n",
              "</table>\n",
              "</div>"
            ],
            "text/plain": [
              "     English words/sentences French words/sentences\n",
              "1554             Let me die.     Laisse-moi mourir.\n",
              "2087            He's a slob.     C'est un flemmard.\n",
              "5470          I have to try.  Il faut que j'essaie.\n",
              "2363            I was naive.        Je fus crédule.\n",
              "7570         He is bankrupt.    Il est en faillite.\n",
              "6427          That's a fact.         C'est un fait.\n",
              "1651             Talk to me!           Parlez-moi !\n",
              "4164           Keep talking.   Continuez de parler.\n",
              "1231             I broke it.        Je l'ai cassée.\n",
              "9232         Tom is a judge.          Tom est juge."
            ]
          },
          "execution_count": 11,
          "metadata": {},
          "output_type": "execute_result"
        }
      ],
      "source": [
        "eng_fre_data= eng_fre_data.sample(frac=1, random_state=0) # Returns all the rows in random order\n",
        "eng_fre_data.iloc[1000:1010]"
      ]
    },
    {
      "cell_type": "markdown",
      "id": "c4051f99",
      "metadata": {
        "id": "c4051f99"
      },
      "source": [
        "###  4.2 Clean the string"
      ]
    },
    {
      "cell_type": "code",
      "execution_count": null,
      "id": "35b1583d",
      "metadata": {
        "ExecuteTime": {
          "end_time": "2022-01-25T10:53:21.688391Z",
          "start_time": "2022-01-25T10:53:21.683278Z"
        },
        "id": "35b1583d"
      },
      "outputs": [],
      "source": [
        "def clean(string):\n",
        "    string = string.replace(\"\\u202f\",\" \") # Replace no-break space with space\n",
        "    string = string.lower()\n",
        "    \n",
        "    # Delete the punctuation and the numbers\n",
        "    for p in punctuation + \"«»\" + \"0123456789\":\n",
        "        string = string.replace(p,\" \")\n",
        "        \n",
        "    string = re.sub('\\s+',' ', string)\n",
        "    string = string.strip()\n",
        "           \n",
        "    return string"
      ]
    },
    {
      "cell_type": "code",
      "execution_count": null,
      "id": "c011af70",
      "metadata": {
        "ExecuteTime": {
          "end_time": "2022-01-25T10:53:22.210778Z",
          "start_time": "2022-01-25T10:53:22.008732Z"
        },
        "id": "c011af70"
      },
      "outputs": [],
      "source": [
        "# Clean the sentences\n",
        "eng_fre_data[\"English words/sentences\"] = eng_fre_data[\"English words/sentences\"].apply(lambda x: clean(x))\n",
        "eng_fre_data[\"French words/sentences\"] = eng_fre_data[\"French words/sentences\"].apply(lambda x: clean(x))"
      ]
    },
    {
      "cell_type": "code",
      "execution_count": null,
      "id": "a754c7b2",
      "metadata": {
        "ExecuteTime": {
          "end_time": "2022-01-25T10:53:22.434829Z",
          "start_time": "2022-01-25T10:53:22.407824Z"
        },
        "id": "a754c7b2",
        "outputId": "21feae52-0453-4acc-e2a4-c6898998bddb"
      },
      "outputs": [
        {
          "data": {
            "text/html": [
              "<div>\n",
              "<style scoped>\n",
              "    .dataframe tbody tr th:only-of-type {\n",
              "        vertical-align: middle;\n",
              "    }\n",
              "\n",
              "    .dataframe tbody tr th {\n",
              "        vertical-align: top;\n",
              "    }\n",
              "\n",
              "    .dataframe thead th {\n",
              "        text-align: right;\n",
              "    }\n",
              "</style>\n",
              "<table border=\"1\" class=\"dataframe\">\n",
              "  <thead>\n",
              "    <tr style=\"text-align: right;\">\n",
              "      <th></th>\n",
              "      <th>English words/sentences</th>\n",
              "      <th>French words/sentences</th>\n",
              "    </tr>\n",
              "  </thead>\n",
              "  <tbody>\n",
              "    <tr>\n",
              "      <th>9394</th>\n",
              "      <td>we know enough</td>\n",
              "      <td>nous en savons assez</td>\n",
              "    </tr>\n",
              "    <tr>\n",
              "      <th>898</th>\n",
              "      <td>stay calm</td>\n",
              "      <td>garde ton sang froid</td>\n",
              "    </tr>\n",
              "    <tr>\n",
              "      <th>2398</th>\n",
              "      <td>i won t cry</td>\n",
              "      <td>je ne pleurerai pas</td>\n",
              "    </tr>\n",
              "    <tr>\n",
              "      <th>5906</th>\n",
              "      <td>i m not happy</td>\n",
              "      <td>je ne suis pas contente</td>\n",
              "    </tr>\n",
              "    <tr>\n",
              "      <th>2343</th>\n",
              "      <td>i want that</td>\n",
              "      <td>moi je veux ça</td>\n",
              "    </tr>\n",
              "    <tr>\n",
              "      <th>...</th>\n",
              "      <td>...</td>\n",
              "      <td>...</td>\n",
              "    </tr>\n",
              "    <tr>\n",
              "      <th>9225</th>\n",
              "      <td>tom hated that</td>\n",
              "      <td>tom détestait ça</td>\n",
              "    </tr>\n",
              "    <tr>\n",
              "      <th>4859</th>\n",
              "      <td>are you ready</td>\n",
              "      <td>es tu prête</td>\n",
              "    </tr>\n",
              "    <tr>\n",
              "      <th>3264</th>\n",
              "      <td>can i try it</td>\n",
              "      <td>je peux essayer</td>\n",
              "    </tr>\n",
              "    <tr>\n",
              "      <th>9845</th>\n",
              "      <td>you ve done it</td>\n",
              "      <td>tu l as fait</td>\n",
              "    </tr>\n",
              "    <tr>\n",
              "      <th>2732</th>\n",
              "      <td>shall we go</td>\n",
              "      <td>y allons nous</td>\n",
              "    </tr>\n",
              "  </tbody>\n",
              "</table>\n",
              "<p>10000 rows × 2 columns</p>\n",
              "</div>"
            ],
            "text/plain": [
              "     English words/sentences   French words/sentences\n",
              "9394          we know enough     nous en savons assez\n",
              "898                stay calm     garde ton sang froid\n",
              "2398             i won t cry      je ne pleurerai pas\n",
              "5906           i m not happy  je ne suis pas contente\n",
              "2343             i want that           moi je veux ça\n",
              "...                      ...                      ...\n",
              "9225          tom hated that         tom détestait ça\n",
              "4859           are you ready              es tu prête\n",
              "3264            can i try it          je peux essayer\n",
              "9845          you ve done it             tu l as fait\n",
              "2732             shall we go            y allons nous\n",
              "\n",
              "[10000 rows x 2 columns]"
            ]
          },
          "execution_count": 14,
          "metadata": {},
          "output_type": "execute_result"
        }
      ],
      "source": [
        "eng_fre_data"
      ]
    },
    {
      "cell_type": "code",
      "execution_count": null,
      "id": "83b1241b",
      "metadata": {
        "ExecuteTime": {
          "end_time": "2022-01-25T10:53:22.974951Z",
          "start_time": "2022-01-25T10:53:22.967950Z"
        },
        "id": "83b1241b"
      },
      "outputs": [],
      "source": [
        "# Select one part of the dataset\n",
        "eng_fre_data= eng_fre_data.values"
      ]
    },
    {
      "cell_type": "code",
      "execution_count": null,
      "id": "d11450c2",
      "metadata": {
        "ExecuteTime": {
          "end_time": "2022-01-25T10:53:23.563246Z",
          "start_time": "2022-01-25T10:53:23.546912Z"
        },
        "id": "d11450c2",
        "outputId": "540890ec-62cf-4462-f3bd-359d2c56ecb3"
      },
      "outputs": [
        {
          "data": {
            "text/plain": [
              "array([['we know enough', 'nous en savons assez'],\n",
              "       ['stay calm', 'garde ton sang froid'],\n",
              "       ['i won t cry', 'je ne pleurerai pas'],\n",
              "       ...,\n",
              "       ['can i try it', 'je peux essayer'],\n",
              "       ['you ve done it', 'tu l as fait'],\n",
              "       ['shall we go', 'y allons nous']], dtype=object)"
            ]
          },
          "execution_count": 16,
          "metadata": {},
          "output_type": "execute_result"
        }
      ],
      "source": [
        "eng_fre_data= eng_fre_data[:total_sentences] #[:] syntax is a slice with the default start and end values \n",
        "eng_fre_data"
      ]
    },
    {
      "cell_type": "markdown",
      "id": "f8fba274",
      "metadata": {
        "id": "f8fba274"
      },
      "source": [
        "### 4.3 Split into train/test"
      ]
    },
    {
      "cell_type": "code",
      "execution_count": null,
      "id": "2408a160",
      "metadata": {
        "ExecuteTime": {
          "end_time": "2022-01-25T10:53:24.440445Z",
          "start_time": "2022-01-25T10:53:24.425434Z"
        },
        "id": "2408a160",
        "outputId": "c551ac17-3408-4291-9530-5d0387dc7c28"
      },
      "outputs": [
        {
          "data": {
            "text/plain": [
              "(9000, 2)"
            ]
          },
          "execution_count": 17,
          "metadata": {},
          "output_type": "execute_result"
        }
      ],
      "source": [
        "train, test = eng_fre_data[:train_test_threshold], eng_fre_data[train_test_threshold:]\n",
        "train.shape"
      ]
    },
    {
      "cell_type": "code",
      "execution_count": null,
      "id": "ec14532b",
      "metadata": {
        "ExecuteTime": {
          "end_time": "2022-01-25T10:53:24.776032Z",
          "start_time": "2022-01-25T10:53:24.757516Z"
        },
        "id": "ec14532b",
        "outputId": "f37a459e-9e29-473c-ef99-6c68e0e53ea2"
      },
      "outputs": [
        {
          "data": {
            "text/plain": [
              "(1000, 2)"
            ]
          },
          "execution_count": 18,
          "metadata": {},
          "output_type": "execute_result"
        }
      ],
      "source": [
        "test.shape"
      ]
    },
    {
      "cell_type": "code",
      "execution_count": null,
      "id": "0a8793c2",
      "metadata": {
        "ExecuteTime": {
          "end_time": "2022-01-25T10:53:25.063105Z",
          "start_time": "2022-01-25T10:53:25.057095Z"
        },
        "id": "0a8793c2"
      },
      "outputs": [],
      "source": [
        "# Define the name of the source and of the target\n",
        "# This will be used in the outputs of this notebook\n",
        "source_str, target_str = \"French\", \"English\""
      ]
    },
    {
      "cell_type": "code",
      "execution_count": null,
      "id": "154aa1c9",
      "metadata": {
        "ExecuteTime": {
          "end_time": "2022-01-25T10:53:25.364814Z",
          "start_time": "2022-01-25T10:53:25.358871Z"
        },
        "id": "154aa1c9"
      },
      "outputs": [],
      "source": [
        "# The index in the numpy array of the source and of the target\n",
        "idx_src, idx_tar = 1, 0"
      ]
    },
    {
      "cell_type": "code",
      "execution_count": null,
      "id": "6bfb9409",
      "metadata": {
        "ExecuteTime": {
          "end_time": "2022-01-25T10:53:25.854925Z",
          "start_time": "2022-01-25T10:53:25.842922Z"
        },
        "scrolled": true,
        "id": "6bfb9409",
        "outputId": "0c1a951a-2d8a-4d22-d88a-f072341050cc"
      },
      "outputs": [
        {
          "data": {
            "text/html": [
              "<div>\n",
              "<style scoped>\n",
              "    .dataframe tbody tr th:only-of-type {\n",
              "        vertical-align: middle;\n",
              "    }\n",
              "\n",
              "    .dataframe tbody tr th {\n",
              "        vertical-align: top;\n",
              "    }\n",
              "\n",
              "    .dataframe thead th {\n",
              "        text-align: right;\n",
              "    }\n",
              "</style>\n",
              "<table border=\"1\" class=\"dataframe\">\n",
              "  <thead>\n",
              "    <tr style=\"text-align: right;\">\n",
              "      <th></th>\n",
              "      <th>0</th>\n",
              "      <th>1</th>\n",
              "    </tr>\n",
              "  </thead>\n",
              "  <tbody>\n",
              "    <tr>\n",
              "      <th>0</th>\n",
              "      <td>let me die</td>\n",
              "      <td>laisse moi mourir</td>\n",
              "    </tr>\n",
              "    <tr>\n",
              "      <th>1</th>\n",
              "      <td>he s a slob</td>\n",
              "      <td>c est un flemmard</td>\n",
              "    </tr>\n",
              "    <tr>\n",
              "      <th>2</th>\n",
              "      <td>i have to try</td>\n",
              "      <td>il faut que j essaie</td>\n",
              "    </tr>\n",
              "    <tr>\n",
              "      <th>3</th>\n",
              "      <td>i was naive</td>\n",
              "      <td>je fus crédule</td>\n",
              "    </tr>\n",
              "    <tr>\n",
              "      <th>4</th>\n",
              "      <td>he is bankrupt</td>\n",
              "      <td>il est en faillite</td>\n",
              "    </tr>\n",
              "    <tr>\n",
              "      <th>5</th>\n",
              "      <td>that s a fact</td>\n",
              "      <td>c est un fait</td>\n",
              "    </tr>\n",
              "    <tr>\n",
              "      <th>6</th>\n",
              "      <td>talk to me</td>\n",
              "      <td>parlez moi</td>\n",
              "    </tr>\n",
              "    <tr>\n",
              "      <th>7</th>\n",
              "      <td>keep talking</td>\n",
              "      <td>continuez de parler</td>\n",
              "    </tr>\n",
              "    <tr>\n",
              "      <th>8</th>\n",
              "      <td>i broke it</td>\n",
              "      <td>je l ai cassée</td>\n",
              "    </tr>\n",
              "    <tr>\n",
              "      <th>9</th>\n",
              "      <td>tom is a judge</td>\n",
              "      <td>tom est juge</td>\n",
              "    </tr>\n",
              "  </tbody>\n",
              "</table>\n",
              "</div>"
            ],
            "text/plain": [
              "                0                     1\n",
              "0      let me die     laisse moi mourir\n",
              "1     he s a slob     c est un flemmard\n",
              "2   i have to try  il faut que j essaie\n",
              "3     i was naive        je fus crédule\n",
              "4  he is bankrupt    il est en faillite\n",
              "5   that s a fact         c est un fait\n",
              "6      talk to me            parlez moi\n",
              "7    keep talking   continuez de parler\n",
              "8      i broke it        je l ai cassée\n",
              "9  tom is a judge          tom est juge"
            ]
          },
          "execution_count": 21,
          "metadata": {},
          "output_type": "execute_result"
        }
      ],
      "source": [
        "# Display the result after cleaning\n",
        "pd.DataFrame(eng_fre_data[1000:1010])"
      ]
    },
    {
      "cell_type": "markdown",
      "id": "2c120700",
      "metadata": {
        "id": "2c120700"
      },
      "source": [
        "### 4.4 Fit a tokenizer"
      ]
    },
    {
      "cell_type": "code",
      "execution_count": null,
      "id": "d7c7a12d",
      "metadata": {
        "ExecuteTime": {
          "end_time": "2022-01-25T10:53:26.741758Z",
          "start_time": "2022-01-25T10:53:26.728758Z"
        },
        "id": "d7c7a12d"
      },
      "outputs": [],
      "source": [
        "def create_tokenizer(lines):\n",
        "    tokenizer = Tokenizer()\n",
        "    tokenizer.fit_on_texts(lines)\n",
        "    return tokenizer\n",
        "\n",
        "  # max sentence length\n",
        "def max_len(lines):\n",
        "    return max(len(line.split()) for line in lines)\n",
        "\n",
        "    # encode and pad sequences\n",
        "def encode_sequences(tokenizer, length, lines):\n",
        "    X = tokenizer.texts_to_sequences(lines) # integer encode sequences\n",
        "    X = pad_sequences(X, maxlen=length, padding='post') # pad sequences with 0 values\n",
        "    return X"
      ]
    },
    {
      "cell_type": "code",
      "execution_count": null,
      "id": "6e2bda4e",
      "metadata": {
        "ExecuteTime": {
          "end_time": "2022-01-25T10:53:27.092789Z",
          "start_time": "2022-01-25T10:53:27.079834Z"
        },
        "id": "6e2bda4e"
      },
      "outputs": [],
      "source": [
        " # one hot encode target sequence\n",
        "def encode_output(sequences, vocab_size):\n",
        "    ylist = list()\n",
        "    for sequence in sequences:\n",
        "        encoded = to_categorical(sequence, num_classes=vocab_size)\n",
        "        ylist.append(encoded)\n",
        "    y = np.array(ylist)\n",
        "    y = y.reshape(sequences.shape[0], sequences.shape[1], vocab_size)\n",
        "    return y"
      ]
    },
    {
      "cell_type": "markdown",
      "id": "4e51e7db",
      "metadata": {
        "id": "4e51e7db"
      },
      "source": [
        "* **One hot encoding** can be defined as the essential process of converting the categorical data variables to be provided to machine and deep learning algorithms which in turn improve predictions as well as classification accuracy of a model."
      ]
    },
    {
      "cell_type": "markdown",
      "id": "4192b6a8",
      "metadata": {
        "id": "4192b6a8"
      },
      "source": [
        "### 4.5 Prepare target tokenizer"
      ]
    },
    {
      "cell_type": "code",
      "execution_count": null,
      "id": "ba841c4f",
      "metadata": {
        "ExecuteTime": {
          "end_time": "2022-01-25T10:53:28.270995Z",
          "start_time": "2022-01-25T10:53:28.127450Z"
        },
        "id": "ba841c4f",
        "outputId": "1218af3d-c5da-4e68-ce85-522b00e7b6bb"
      },
      "outputs": [
        {
          "name": "stdout",
          "output_type": "stream",
          "text": [
            "\n",
            "Target (English) Vocabulary Size: 2099\n",
            "Target (English) Max Length: 5\n"
          ]
        }
      ],
      "source": [
        "tar_tokenizer = create_tokenizer(eng_fre_data[:, idx_tar])\n",
        "tar_vocab_size = len(tar_tokenizer.word_index) + 1\n",
        "tar_length = max_len(eng_fre_data[:, idx_tar])\n",
        "print(f'\\nTarget ({target_str}) Vocabulary Size: {tar_vocab_size}')\n",
        "print(f'Target ({target_str}) Max Length: {tar_length}')"
      ]
    },
    {
      "cell_type": "markdown",
      "id": "79ff44f1",
      "metadata": {
        "id": "79ff44f1"
      },
      "source": [
        "### 4.6 Prepare source tokenizer"
      ]
    },
    {
      "cell_type": "code",
      "execution_count": null,
      "id": "4b7af4f5",
      "metadata": {
        "ExecuteTime": {
          "end_time": "2022-01-25T10:53:28.842797Z",
          "start_time": "2022-01-25T10:53:28.690090Z"
        },
        "id": "4b7af4f5",
        "outputId": "4dd3d829-2d6f-4344-9fa2-e5d742b720ce"
      },
      "outputs": [
        {
          "name": "stdout",
          "output_type": "stream",
          "text": [
            "\n",
            "Source (French) Vocabulary Size: 4039\n",
            "Source (French) Max Length: 12\n",
            "\n"
          ]
        }
      ],
      "source": [
        "src_tokenizer = create_tokenizer(eng_fre_data[:, idx_src])\n",
        "src_vocab_size = len(src_tokenizer.word_index) + 1\n",
        "src_length = max_len(eng_fre_data[:, idx_src])\n",
        "print(f'\\nSource ({source_str}) Vocabulary Size: {src_vocab_size}')\n",
        "print(f'Source ({source_str}) Max Length: {src_length}\\n')"
      ]
    },
    {
      "cell_type": "markdown",
      "id": "38f28f02",
      "metadata": {
        "id": "38f28f02"
      },
      "source": [
        "### 4.7 Prepare training data"
      ]
    },
    {
      "cell_type": "code",
      "execution_count": null,
      "id": "eb20c5f6",
      "metadata": {
        "ExecuteTime": {
          "end_time": "2022-01-25T10:53:30.212746Z",
          "start_time": "2022-01-25T10:53:29.193554Z"
        },
        "id": "eb20c5f6"
      },
      "outputs": [],
      "source": [
        "trainX = encode_sequences(src_tokenizer, src_length, train[:, idx_src])\n",
        "trainY = encode_sequences(tar_tokenizer, tar_length, train[:, idx_tar])\n",
        "trainY = encode_output(trainY, tar_vocab_size)"
      ]
    },
    {
      "cell_type": "markdown",
      "id": "e14234ff",
      "metadata": {
        "id": "e14234ff"
      },
      "source": [
        "### 4.8 Prepare test data"
      ]
    },
    {
      "cell_type": "code",
      "execution_count": null,
      "id": "6585bfd7",
      "metadata": {
        "ExecuteTime": {
          "end_time": "2022-01-25T10:53:30.388728Z",
          "start_time": "2022-01-25T10:53:30.246754Z"
        },
        "id": "6585bfd7"
      },
      "outputs": [],
      "source": [
        "testX = encode_sequences(src_tokenizer, src_length, test[:, idx_src])\n",
        "testY = encode_sequences(tar_tokenizer, tar_length, test[:, idx_tar])\n",
        "testY = encode_output(testY, tar_vocab_size)"
      ]
    },
    {
      "cell_type": "markdown",
      "id": "bfe0274f",
      "metadata": {
        "id": "bfe0274f"
      },
      "source": [
        "## 5.Model Building"
      ]
    },
    {
      "cell_type": "markdown",
      "id": "bc7141cc",
      "metadata": {
        "id": "bc7141cc"
      },
      "source": [
        "### 5.1 Building the architecture"
      ]
    },
    {
      "cell_type": "code",
      "execution_count": null,
      "id": "8e44faf3",
      "metadata": {
        "ExecuteTime": {
          "end_time": "2022-01-25T10:53:37.159013Z",
          "start_time": "2022-01-25T10:53:33.606368Z"
        },
        "id": "8e44faf3"
      },
      "outputs": [],
      "source": [
        "def create_model(src_vocab, tar_vocab, src_timesteps, tar_timesteps, n_units):\n",
        "    model = Sequential()\n",
        "    model.add(Embedding(src_vocab, n_units, input_length=src_timesteps, mask_zero=True))\n",
        "    model.add(LSTM(n_units,activation='tanh'))\n",
        "    model.add(RepeatVector(tar_timesteps))\n",
        "    model.add(LSTM(n_units, return_sequences=True,activation='tanh'))\n",
        "    model.add(TimeDistributed(Dense(tar_vocab, activation='softmax')))\n",
        "    return model\n",
        " \n",
        "\n",
        "model = create_model(src_vocab_size, tar_vocab_size, src_length, tar_length, 256)\n"
      ]
    },
    {
      "cell_type": "markdown",
      "id": "5e985751",
      "metadata": {
        "id": "5e985751"
      },
      "source": [
        "* **Embedding Layer** = It is used for Neural Network to work on Text Data. (Only be used as the first layer in a model.)\n",
        "* **RepeatVector**    = Repeats the input n times.\n",
        "* **TimeDistributed** = This wrapper allows to apply a layer to every temporal slice of an input.\n",
        "* If mask_zero is set to True, as a consequence, index 0 cannot be used in the vocabulary (input_dim should equal size of vocabulary + 1).\n",
        "* If  return_sequences is used to return the last output."
      ]
    },
    {
      "cell_type": "markdown",
      "id": "eb9c5579",
      "metadata": {
        "id": "eb9c5579"
      },
      "source": [
        "### 5.2 Model Compilation"
      ]
    },
    {
      "cell_type": "code",
      "execution_count": null,
      "id": "6b872176",
      "metadata": {
        "ExecuteTime": {
          "end_time": "2022-01-25T10:53:37.223074Z",
          "start_time": "2022-01-25T10:53:37.196023Z"
        },
        "id": "6b872176"
      },
      "outputs": [],
      "source": [
        "model.compile(optimizer='adam', loss='categorical_crossentropy',metrics='accuracy')"
      ]
    },
    {
      "cell_type": "markdown",
      "id": "a7acc27b",
      "metadata": {
        "id": "a7acc27b"
      },
      "source": [
        "## 6. Model Training"
      ]
    },
    {
      "cell_type": "code",
      "execution_count": null,
      "id": "bd67d9ab",
      "metadata": {
        "ExecuteTime": {
          "end_time": "2022-01-25T11:00:47.525503Z",
          "start_time": "2022-01-25T10:55:05.056755Z"
        },
        "id": "bd67d9ab",
        "outputId": "671e9f49-dfa7-40d9-c0da-64c461177a60"
      },
      "outputs": [
        {
          "name": "stdout",
          "output_type": "stream",
          "text": [
            "Epoch 1/200\n",
            "127/127 [==============================] - 15s 79ms/step - loss: 4.3567 - accuracy: 0.4132 - val_loss: 3.5013 - val_accuracy: 0.4451\n",
            "Epoch 2/200\n",
            "127/127 [==============================] - 7s 57ms/step - loss: 3.3243 - accuracy: 0.4527 - val_loss: 3.3065 - val_accuracy: 0.4518\n",
            "Epoch 3/200\n",
            "127/127 [==============================] - 7s 56ms/step - loss: 3.1205 - accuracy: 0.4699 - val_loss: 3.1374 - val_accuracy: 0.4747\n",
            "Epoch 4/200\n",
            "127/127 [==============================] - 7s 57ms/step - loss: 2.9319 - accuracy: 0.4865 - val_loss: 3.0129 - val_accuracy: 0.4884\n",
            "Epoch 5/200\n",
            "127/127 [==============================] - 7s 59ms/step - loss: 2.7933 - accuracy: 0.5009 - val_loss: 2.9316 - val_accuracy: 0.5004\n",
            "Epoch 6/200\n",
            "127/127 [==============================] - 7s 59ms/step - loss: 2.6783 - accuracy: 0.5141 - val_loss: 2.8602 - val_accuracy: 0.5184\n",
            "Epoch 7/200\n",
            "127/127 [==============================] - 7s 55ms/step - loss: 2.5578 - accuracy: 0.5338 - val_loss: 2.7756 - val_accuracy: 0.5333\n",
            "Epoch 8/200\n",
            "127/127 [==============================] - 7s 56ms/step - loss: 2.4313 - accuracy: 0.5564 - val_loss: 2.6640 - val_accuracy: 0.5567\n",
            "Epoch 9/200\n",
            "127/127 [==============================] - 7s 55ms/step - loss: 2.2922 - accuracy: 0.5810 - val_loss: 2.5549 - val_accuracy: 0.5773\n",
            "Epoch 10/200\n",
            "127/127 [==============================] - 7s 56ms/step - loss: 2.1563 - accuracy: 0.5991 - val_loss: 2.4529 - val_accuracy: 0.5880\n",
            "Epoch 11/200\n",
            "127/127 [==============================] - 7s 55ms/step - loss: 2.0275 - accuracy: 0.6160 - val_loss: 2.3925 - val_accuracy: 0.6009\n",
            "Epoch 12/200\n",
            "127/127 [==============================] - 7s 56ms/step - loss: 1.9087 - accuracy: 0.6308 - val_loss: 2.3258 - val_accuracy: 0.6196\n",
            "Epoch 13/200\n",
            "127/127 [==============================] - 7s 56ms/step - loss: 1.7952 - accuracy: 0.6457 - val_loss: 2.2568 - val_accuracy: 0.6247\n",
            "Epoch 14/200\n",
            "127/127 [==============================] - 7s 58ms/step - loss: 1.6860 - accuracy: 0.6586 - val_loss: 2.1953 - val_accuracy: 0.6336\n",
            "Epoch 15/200\n",
            "127/127 [==============================] - 7s 58ms/step - loss: 1.5787 - accuracy: 0.6738 - val_loss: 2.1440 - val_accuracy: 0.6429\n",
            "Epoch 16/200\n",
            "127/127 [==============================] - 7s 57ms/step - loss: 1.4761 - accuracy: 0.6903 - val_loss: 2.0953 - val_accuracy: 0.6496\n",
            "Epoch 17/200\n",
            "127/127 [==============================] - 7s 56ms/step - loss: 1.3794 - accuracy: 0.7029 - val_loss: 2.0657 - val_accuracy: 0.6542\n",
            "Epoch 18/200\n",
            "127/127 [==============================] - 7s 56ms/step - loss: 1.2890 - accuracy: 0.7168 - val_loss: 2.0062 - val_accuracy: 0.6636\n",
            "Epoch 19/200\n",
            "127/127 [==============================] - 7s 57ms/step - loss: 1.1999 - accuracy: 0.7328 - val_loss: 1.9928 - val_accuracy: 0.6664\n",
            "Epoch 20/200\n",
            "127/127 [==============================] - 7s 57ms/step - loss: 1.1186 - accuracy: 0.7461 - val_loss: 1.9654 - val_accuracy: 0.6724\n",
            "Epoch 21/200\n",
            "127/127 [==============================] - 7s 55ms/step - loss: 1.0372 - accuracy: 0.7640 - val_loss: 1.9268 - val_accuracy: 0.6842\n",
            "Epoch 22/200\n",
            "127/127 [==============================] - 7s 56ms/step - loss: 0.9586 - accuracy: 0.7785 - val_loss: 1.9030 - val_accuracy: 0.6873\n",
            "Epoch 23/200\n",
            "127/127 [==============================] - 7s 55ms/step - loss: 0.8861 - accuracy: 0.7954 - val_loss: 1.8917 - val_accuracy: 0.6918\n",
            "Epoch 24/200\n",
            "127/127 [==============================] - 7s 56ms/step - loss: 0.8169 - accuracy: 0.8119 - val_loss: 1.8706 - val_accuracy: 0.6996\n",
            "Epoch 25/200\n",
            "127/127 [==============================] - 7s 55ms/step - loss: 0.7536 - accuracy: 0.8267 - val_loss: 1.8443 - val_accuracy: 0.7071\n",
            "Epoch 26/200\n",
            "127/127 [==============================] - 7s 56ms/step - loss: 0.6896 - accuracy: 0.8415 - val_loss: 1.8323 - val_accuracy: 0.7091\n",
            "Epoch 27/200\n",
            "127/127 [==============================] - 7s 56ms/step - loss: 0.6322 - accuracy: 0.8567 - val_loss: 1.8216 - val_accuracy: 0.7116\n",
            "Epoch 28/200\n",
            "127/127 [==============================] - 7s 56ms/step - loss: 0.5778 - accuracy: 0.8698 - val_loss: 1.8204 - val_accuracy: 0.7142\n",
            "Epoch 29/200\n",
            "127/127 [==============================] - 7s 56ms/step - loss: 0.5293 - accuracy: 0.8809 - val_loss: 1.7980 - val_accuracy: 0.7211\n",
            "Epoch 30/200\n",
            "127/127 [==============================] - 8s 61ms/step - loss: 0.4845 - accuracy: 0.8938 - val_loss: 1.7954 - val_accuracy: 0.7256\n",
            "Epoch 31/200\n",
            "127/127 [==============================] - 8s 62ms/step - loss: 0.4424 - accuracy: 0.9033 - val_loss: 1.7852 - val_accuracy: 0.7296\n",
            "Epoch 32/200\n",
            "127/127 [==============================] - 8s 63ms/step - loss: 0.4033 - accuracy: 0.9115 - val_loss: 1.7842 - val_accuracy: 0.7280\n",
            "Epoch 33/200\n",
            "127/127 [==============================] - 8s 60ms/step - loss: 0.3702 - accuracy: 0.9191 - val_loss: 1.7856 - val_accuracy: 0.7324\n",
            "Epoch 34/200\n",
            "127/127 [==============================] - 7s 58ms/step - loss: 0.3387 - accuracy: 0.9250 - val_loss: 1.7691 - val_accuracy: 0.7367\n",
            "Epoch 35/200\n",
            "127/127 [==============================] - 7s 58ms/step - loss: 0.3114 - accuracy: 0.9321 - val_loss: 1.7688 - val_accuracy: 0.7353\n",
            "Epoch 36/200\n",
            "127/127 [==============================] - 7s 56ms/step - loss: 0.2855 - accuracy: 0.9378 - val_loss: 1.7687 - val_accuracy: 0.7391\n",
            "Epoch 37/200\n",
            "127/127 [==============================] - 8s 59ms/step - loss: 0.2622 - accuracy: 0.9422 - val_loss: 1.7735 - val_accuracy: 0.7422\n",
            "Epoch 38/200\n",
            "127/127 [==============================] - 8s 60ms/step - loss: 0.2418 - accuracy: 0.9460 - val_loss: 1.7737 - val_accuracy: 0.7413\n",
            "Epoch 39/200\n",
            "127/127 [==============================] - 8s 59ms/step - loss: 0.2229 - accuracy: 0.9500 - val_loss: 1.7729 - val_accuracy: 0.7444\n",
            "Epoch 40/200\n",
            "127/127 [==============================] - 7s 58ms/step - loss: 0.2070 - accuracy: 0.9516 - val_loss: 1.7870 - val_accuracy: 0.7420\n",
            "Epoch 41/200\n",
            "127/127 [==============================] - 7s 58ms/step - loss: 0.1924 - accuracy: 0.9541 - val_loss: 1.7847 - val_accuracy: 0.7467\n",
            "Epoch 42/200\n",
            "127/127 [==============================] - 7s 57ms/step - loss: 0.1787 - accuracy: 0.9562 - val_loss: 1.7862 - val_accuracy: 0.7484\n",
            "Epoch 43/200\n",
            "127/127 [==============================] - 8s 60ms/step - loss: 0.1676 - accuracy: 0.9587 - val_loss: 1.7896 - val_accuracy: 0.7513\n",
            "Epoch 44/200\n",
            "127/127 [==============================] - 8s 60ms/step - loss: 0.1557 - accuracy: 0.9599 - val_loss: 1.7926 - val_accuracy: 0.7491\n",
            "Epoch 45/200\n",
            "127/127 [==============================] - 7s 57ms/step - loss: 0.1475 - accuracy: 0.9604 - val_loss: 1.8056 - val_accuracy: 0.7467\n",
            "Epoch 46/200\n",
            "127/127 [==============================] - 7s 59ms/step - loss: 0.1401 - accuracy: 0.9620 - val_loss: 1.8050 - val_accuracy: 0.7476\n"
          ]
        }
      ],
      "source": [
        "model_training= model.fit(trainX, \n",
        "          trainY, \n",
        "          epochs=200, \n",
        "          batch_size=64, \n",
        "          validation_split=0.1, \n",
        "          verbose=1,\n",
        "          callbacks=[\n",
        "                        EarlyStopping(\n",
        "                        monitor='val_loss',\n",
        "                        patience=10,\n",
        "                        restore_best_weights=True\n",
        "                    )\n",
        "            ])"
      ]
    },
    {
      "cell_type": "markdown",
      "id": "50e2e78f",
      "metadata": {
        "id": "50e2e78f"
      },
      "source": [
        " * Callback allows you to specify the performance measure to monitor, the trigger, and once triggered, it will stop the training process\n",
        " * To avoid my neural network from overfitting by using early stopping.\n",
        " * Patience argument represents the number of epochs before stopping once your loss starts to increase (stops improving)\n",
        " * Restore_best_weights argument is used to load the model with best weights after training."
      ]
    },
    {
      "cell_type": "markdown",
      "id": "2e36e792",
      "metadata": {
        "id": "2e36e792"
      },
      "source": [
        "## 8. Model Evaluation"
      ]
    },
    {
      "cell_type": "code",
      "execution_count": null,
      "id": "a90271b2",
      "metadata": {
        "ExecuteTime": {
          "end_time": "2022-01-25T11:01:47.559974Z",
          "start_time": "2022-01-25T11:01:46.822889Z"
        },
        "id": "a90271b2",
        "outputId": "42df0d82-4811-4bd8-c6c7-bd26a5aa2a85"
      },
      "outputs": [
        {
          "name": "stdout",
          "output_type": "stream",
          "text": [
            "32/32 [==============================] - 1s 20ms/step - loss: 1.7074 - accuracy: 0.7358\n"
          ]
        },
        {
          "data": {
            "text/plain": [
              "[1.707402229309082, 0.73580002784729]"
            ]
          },
          "execution_count": 31,
          "metadata": {},
          "output_type": "execute_result"
        }
      ],
      "source": [
        "model.evaluate(testX,testY)"
      ]
    },
    {
      "cell_type": "markdown",
      "id": "1331d674",
      "metadata": {
        "id": "1331d674"
      },
      "source": [
        "## 7. Model Prediction"
      ]
    },
    {
      "cell_type": "code",
      "execution_count": null,
      "id": "26f13b3d",
      "metadata": {
        "ExecuteTime": {
          "end_time": "2022-01-25T11:01:51.805515Z",
          "start_time": "2022-01-25T11:01:51.794484Z"
        },
        "id": "26f13b3d"
      },
      "outputs": [],
      "source": [
        "def word_for_id(integer, tokenizer):# map an integer to a word\n",
        "    for word, index in tokenizer.word_index.items(): #A dictionary of words and their uniquely assigned integers.\n",
        "        if index == integer:\n",
        "            return word\n",
        "    return None\n",
        " \n",
        "def predict_seq(model, tokenizer, source):# generate target from a source sequence\n",
        "    prediction = model.predict(source)[0]\n",
        "    integers = [np.argmax(vector) for vector in prediction] #Returns the indices of the maximum values along an axis\n",
        "    target = list()\n",
        "    for i in integers:\n",
        "        word = word_for_id(i, tokenizer)\n",
        "        if word is None:\n",
        "            break\n",
        "        target.append(word)\n",
        "    return ' '.join(target)"
      ]
    },
    {
      "cell_type": "code",
      "execution_count": null,
      "id": "ac11e9b2",
      "metadata": {
        "ExecuteTime": {
          "end_time": "2022-01-25T11:01:52.335435Z",
          "start_time": "2022-01-25T11:01:52.325432Z"
        },
        "id": "ac11e9b2"
      },
      "outputs": [],
      "source": [
        "def compare_prediction(model, tokenizer, sources, raw_dataset, limit=5):\n",
        "    actual, predicted = [], []\n",
        "    src = f'{source_str.upper()} (SOURCE)'\n",
        "    tgt = f'{target_str.upper()} (TARGET)'\n",
        "    pred = f'AUTOMATIC TRANSLATION IN {target_str.upper()}'\n",
        "    print(f'{src:30} {tgt:25} {pred}\\n')\n",
        "    \n",
        "    for i, source in enumerate(sources): # translate encoded source text\n",
        "        source = source.reshape((1, source.shape[0]))\n",
        "        translation = predict_seq(model, tar_tokenizer, source)\n",
        "        raw_target, raw_src = raw_dataset[i]\n",
        "        print(f'{raw_src:30} {raw_target:25} {translation}')\n",
        "        if i >= limit: # Display some of the result\n",
        "            break"
      ]
    },
    {
      "cell_type": "markdown",
      "id": "cea15229",
      "metadata": {
        "id": "cea15229"
      },
      "source": [
        "### 7.1 Test on some training sequences"
      ]
    },
    {
      "cell_type": "code",
      "execution_count": null,
      "id": "edb873d3",
      "metadata": {
        "ExecuteTime": {
          "end_time": "2022-01-25T11:01:55.515870Z",
          "start_time": "2022-01-25T11:01:53.725549Z"
        },
        "id": "edb873d3",
        "outputId": "f68608a8-5bb5-474b-e219-1436be44955b"
      },
      "outputs": [
        {
          "name": "stdout",
          "output_type": "stream",
          "text": [
            "### Result on the Training Set ###\n",
            "\n",
            "\n",
            "FRENCH (SOURCE)                ENGLISH (TARGET)          AUTOMATIC TRANSLATION IN ENGLISH\n",
            "\n",
            "nous en savons assez           we know enough            we know enough\n",
            "garde ton sang froid           stay calm                 stay calm\n",
            "je ne pleurerai pas            i won t cry               i won t cry\n",
            "je ne suis pas contente        i m not happy             i m not happy\n",
            "moi je veux ça                 i want that               i want that\n",
            "j étais tellement heureuse     i was so happy            i was so happy\n"
          ]
        }
      ],
      "source": [
        "print('### Result on the Training Set ###')\n",
        "print('\\n')\n",
        "compare_prediction(model, tar_tokenizer, trainX, train)"
      ]
    },
    {
      "cell_type": "markdown",
      "id": "e7b53ee3",
      "metadata": {
        "id": "e7b53ee3"
      },
      "source": [
        "### 7.2 Test on some test sequences"
      ]
    },
    {
      "cell_type": "code",
      "execution_count": null,
      "id": "cc40fb5e",
      "metadata": {
        "ExecuteTime": {
          "end_time": "2022-01-25T11:01:58.782415Z",
          "start_time": "2022-01-25T11:01:58.462083Z"
        },
        "id": "cc40fb5e",
        "outputId": "0530fa7f-9d29-45b9-e4f6-5f944bb59c31"
      },
      "outputs": [
        {
          "name": "stdout",
          "output_type": "stream",
          "text": [
            "### Result on the Test Set ###\n",
            "\n",
            "\n",
            "FRENCH (SOURCE)                ENGLISH (TARGET)          AUTOMATIC TRANSLATION IN ENGLISH\n",
            "\n",
            "ils ont abandonné              they gave up              they gave up\n",
            "rappelle moi                   call me back              marry me\n",
            "je veux essayer                i want to try             i want to wait\n",
            "ça fonctionne bien             it works well             it works good\n",
            "grimpe dans la camionnette     get in the van            get in the van\n",
            "je suis mince                  i m thin                  i m stupid\n"
          ]
        }
      ],
      "source": [
        "print('### Result on the Test Set ###')\n",
        "print('\\n')\n",
        "compare_prediction(model, tar_tokenizer, testX, test)"
      ]
    },
    {
      "cell_type": "markdown",
      "id": "738d2d42",
      "metadata": {
        "id": "738d2d42"
      },
      "source": [
        "## 9.Model Performace"
      ]
    },
    {
      "cell_type": "markdown",
      "id": "712d35be",
      "metadata": {
        "id": "712d35be"
      },
      "source": [
        "### 9.1 Model Accuracy Peformance"
      ]
    },
    {
      "cell_type": "code",
      "execution_count": null,
      "id": "10b3b343",
      "metadata": {
        "ExecuteTime": {
          "end_time": "2022-01-25T11:02:01.552380Z",
          "start_time": "2022-01-25T11:02:01.346928Z"
        },
        "scrolled": false,
        "id": "10b3b343",
        "outputId": "e61adb96-2abd-4ccd-d1ad-7206517d81b8"
      },
      "outputs": [
        {
          "data": {
            "image/png": "[encoded data removed]",
            "text/plain": [
              "<Figure size 432x288 with 1 Axes>"
            ]
          },
          "metadata": {
            "needs_background": "light"
          },
          "output_type": "display_data"
        }
      ],
      "source": [
        "import matplotlib.pyplot as plt\n",
        "plt.plot(model_training.history['accuracy'],label='Train accuracy')\n",
        "\n",
        "plt.plot(model_training.history['val_accuracy'],label='Test accuracy')\n",
        "\n",
        "plt.xlabel('Epochs')\n",
        "plt.ylabel('Accuracy')\n",
        "plt.title('Model Accuracy Performance')\n",
        "plt.legend()\n",
        "plt.show()"
      ]
    },
    {
      "cell_type": "markdown",
      "id": "8455d7ec",
      "metadata": {
        "id": "8455d7ec"
      },
      "source": [
        "### 9.2 Model Loss Performance"
      ]
    },
    {
      "cell_type": "code",
      "execution_count": null,
      "id": "f0b9cfa6",
      "metadata": {
        "ExecuteTime": {
          "end_time": "2022-01-25T11:02:02.980139Z",
          "start_time": "2022-01-25T11:02:02.801088Z"
        },
        "id": "f0b9cfa6",
        "outputId": "e84448ef-88eb-4760-cc87-f20bf33cbefa"
      },
      "outputs": [
        {
          "data": {
            "image/png": "[encoded data removed]",
            "text/plain": [
              "<Figure size 432x288 with 1 Axes>"
            ]
          },
          "metadata": {
            "needs_background": "light"
          },
          "output_type": "display_data"
        }
      ],
      "source": [
        "plt.plot(model_training.history['loss'],label='Train loss')\n",
        "\n",
        "plt.plot(model_training.history['val_loss'],label='Test loss')\n",
        "\n",
        "plt.xlabel('Epochs')\n",
        "plt.ylabel('Loss')\n",
        "plt.title('Model Loss Performance')\n",
        "plt.legend()\n",
        "plt.show()"
      ]
    },
    {
      "cell_type": "code",
      "execution_count": null,
      "id": "9e07795b",
      "metadata": {
        "id": "9e07795b"
      },
      "outputs": [],
      "source": [
        ""
      ]
    },
    {
      "cell_type": "code",
      "execution_count": null,
      "id": "dc7136ec",
      "metadata": {
        "id": "dc7136ec"
      },
      "outputs": [],
      "source": [
        ""
      ]
    }
  ],
  "metadata": {
    "kernelspec": {
      "display_name": "Python 3",
      "language": "python",
      "name": "python3"
    },
    "language_info": {
      "codemirror_mode": {
        "name": "ipython",
        "version": 3
      },
      "file_extension": ".py",
      "mimetype": "text/x-python",
      "name": "python",
      "nbconvert_exporter": "python",
      "pygments_lexer": "ipython3",
      "version": "3.8.8"
    },
    "varInspector": {
      "cols": {
        "lenName": 16,
        "lenType": 16,
        "lenVar": 40
      },
      "kernels_config": {
        "python": {
          "delete_cmd_postfix": "",
          "delete_cmd_prefix": "del ",
          "library": "var_list.py",
          "varRefreshCmd": "print(var_dic_list())"
        },
        "r": {
          "delete_cmd_postfix": ") ",
          "delete_cmd_prefix": "rm(",
          "library": "var_list.r",
          "varRefreshCmd": "cat(var_dic_list()) "
        }
      },
      "types_to_exclude": [
        "module",
        "function",
        "builtin_function_or_method",
        "instance",
        "_Feature"
      ],
      "window_display": false
    },
    "colab": {
      "name": "LSTM -- French to English Translation -[Tanh].ipynb",
      "provenance": []
    }
  },
  "nbformat": 4,
  "nbformat_minor": 5
}